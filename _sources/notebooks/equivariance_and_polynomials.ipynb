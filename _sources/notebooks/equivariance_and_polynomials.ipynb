{
 "cells": [
  {
   "attachments": {},
   "cell_type": "markdown",
   "metadata": {},
   "source": [
    "# Equivariance and Polynomials\n",
    "\n",
    "In this section we will define what it means for a function to be ``equivariant``, and what tools are available to create ``equivariant polynomials``. This latter is of great importance as almost any functions can be approximated by polynomials, and that the role of our neural network is to estimate an (equivariant) function."
   ]
  },
  {
   "attachments": {},
   "cell_type": "markdown",
   "metadata": {},
   "source": [
    "## Equivariance\n",
    "We say that a function $f: V \\rightarrow V'$ is equivariant to the action of the symmetry element $g$, represented by $D(g)$ on it's input $x$, if it gives rise to a similar action $D'(g)$ of its output, i.e:\n",
    "\n",
    "$$\n",
    "f(D(g)x) = D'(g)f(x).\n",
    "$$\n",
    "\n",
    "This principle is illustrated in figure 1.\n",
    "\n",
    "For a concreate example, consider a 3D rotation of $\\theta$ degrees around the x axis:\n",
    "\n",
    "$$\n",
    "R_{x}(\\theta )=\\begin{bmatrix}1&0&0\\\\0&\\cos \\theta &-\\sin \\theta \\\\[3pt]0&\\sin \\theta &\\cos \\theta \\\\[3pt]\\end{bmatrix},\n",
    "$$\n",
    "\n",
    "and the following functions function:\n",
    "\n",
    "$$\n",
    "f: \\begin{bmatrix}\n",
    "           x \\\\\n",
    "           y \\\\\n",
    "           z\n",
    "         \\end{bmatrix} \n",
    "\\rightarrow\n",
    "\\begin{bmatrix}\n",
    "           x^2+y^2+z^2\n",
    "        \n",
    "         \\end{bmatrix} \n",
    "$$\n",
    "\n",
    "Then $f$ is equivariant to rotation as:\n",
    "\n",
    "$$\n",
    "f(R_x(\\theta) \\vec{x}) = f(\\begin{bmatrix}\n",
    "           x \\\\\n",
    "           cos(\\theta)y-sin(\\theta)z \\\\\n",
    "           sin(\\theta)y+cos(\\theta)z\n",
    "         \\end{bmatrix} ) = \\begin{bmatrix}\n",
    "           x^2+y^2+z^2\n",
    "        \n",
    "         \\end{bmatrix}  = R'_x(\\theta) f(x) = f(x).\n",
    "$$\n",
    "\n",
    "especialy in this case the function is actually invariant to rotations: $R'_x(\\theta) =1  \\space \\forall \\theta \\in \\mathcal{R}$.\n",
    "\n",
    "An example of a non equivariant polynomials would be $p$:\n",
    "\n",
    "$$\n",
    "p : \\begin{bmatrix}\n",
    "           x \\\\\n",
    "           y \\\\\n",
    "           z\n",
    "         \\end{bmatrix} \n",
    "\\rightarrow\n",
    "\\begin{bmatrix}\n",
    "           x^2+2(y-3z) \\\\\n",
    "           y^2x \\\\\n",
    "        \n",
    "         \\end{bmatrix}.\n",
    "$$"
   ]
  },
  {
   "cell_type": "markdown",
   "metadata": {},
   "source": [
    "\n",
    "| ![square](../equiv.png) |\n",
    "|:--:|\n",
    "| <b>Fig.1 - Principle of equivariance.</b>|"
   ]
  },
  {
   "attachments": {},
   "cell_type": "markdown",
   "metadata": {},
   "source": [
    "## Equivariant polynomials\n",
    "\n",
    "In this section we will discuss the tools to create equivariant polynomials.\n",
    "\n",
    "We will first show that the compositon of 2 equivariant polynomial is equivariant: \n",
    "\n",
    "Consider two equivariant function:\n",
    "\n",
    "$$ \n",
    "f: V_1 \\rightarrow V_3,\n",
    "$$ \n",
    "\n",
    "$$ \n",
    "g: V_2 \\rightarrow V_3,\n",
    "$$ \n",
    "\n",
    "then: \n",
    "\n",
    "### ``Addition`` of equivariant polynomials is equivariant:\n",
    "\n",
    "Indeed, $f+g$ is equivariant as:\n",
    "\n",
    "$$\n",
    "D_3(g)(f(x)+g(x)) = D_1(g)f(x)+D_2(g)g(x) = f(D_1(g)x)+g(D_2(g)x).\n",
    "$$\n",
    "\n",
    "\n",
    "### ``Composition`` of equivariant polynomials is equivariant:\n",
    "\n",
    "Indeed, $f \\circ g$ is equivariant as:\n",
    "\n",
    "$$\n",
    "D_3(g)(f(g(x))) =f( D_2(g) g(x)) = f(g(D_1(g)x)).\n",
    "$$\n",
    "\n",
    "### The ``Tensor Product`` of two polynomial is equivariant:\n",
    "It is denoted $f \\otimes g$. The ``Tensor Product`` section is dedicated to it."
   ]
  },
  {
   "cell_type": "markdown",
   "metadata": {},
   "source": []
  }
 ],
 "metadata": {
  "kernelspec": {
   "display_name": "base",
   "language": "python",
   "name": "python3"
  },
  "language_info": {
   "codemirror_mode": {
    "name": "ipython",
    "version": 3
   },
   "file_extension": ".py",
   "mimetype": "text/x-python",
   "name": "python",
   "nbconvert_exporter": "python",
   "pygments_lexer": "ipython3",
   "version": "3.9.5 (default, May 18 2021, 12:31:01) \n[Clang 10.0.0 ]"
  },
  "orig_nbformat": 4,
  "vscode": {
   "interpreter": {
    "hash": "a429a41e61deb9ee9f43170a4271c5d42eef99359a9088d8c58f4b96e2ffedc5"
   }
  }
 },
 "nbformat": 4,
 "nbformat_minor": 2
}
