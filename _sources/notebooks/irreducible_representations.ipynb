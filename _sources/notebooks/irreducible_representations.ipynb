{
 "cells": [
  {
   "cell_type": "markdown",
   "metadata": {},
   "source": [
    "# Irreducible representations"
   ]
  },
  {
   "cell_type": "markdown",
   "metadata": {},
   "source": [
    "| ![square](../irrep_2.png) |\n",
    "|:--:|\n",
    "| <b>Fig.1 - Transformation to irreducible representations.</b>|"
   ]
  },
  {
   "attachments": {},
   "cell_type": "markdown",
   "metadata": {},
   "source": [
    "In this section, we will give the definition of irreducible representations and showcase how the reducible and irreducible representations of the same mathematical object can be transfered interchangably in the context of E(3)-equivariant neural networks.\n",
    "\n",
    "By definition, an irreducible representation is a representation that does not contain a smaller representation in it. For example, there is no nontrivial projector $P \\in \\mathcal{R}^{q\\times d}$ such that the function $g \\to PD(g)P^t$ is a representation. The irreducible representations of $SO(3)$ are indexed by the integers $l=0,1,2,\\dots$, and the $l$-irrep is of dimension $2l+1$. For example, $irrep(l=0) \\in \\mathcal{R}^1$ corresponds to $\\textit{scalars}$, $irrep(l=1) \\in \\mathcal{R}^3$ corresponds to $\\textit{vectors}$, and $irrep(l=2) \\in \\mathcal{R}^5$ is the decomposition of a trace-less symmetric rank 2 tensor. A more detailed discussion of irreducible representations can be found here [\\cite{E3NN paper + ref.21}].\n",
    "\n",
    "Here, we will use the example of a random rank-2 tensor $A \\in \\mathcal{R}^{3\\times 3}$, and show how we can decompose tensor $A$ into irreducible representations of $l=0,1,2$: namely, a scalar corresponding to the tensor trace $tr(A)$, a pseudovector corresponding to the anti-symmetric component, and a 5 component irrep corresponding to the trace-less component of the symmetric component of tensor $A$.\n",
    "\n",
    "First, we can decompose tensor $A$ into a symmetric part $A_{sym}$ and a trace-less anti-symmetric part $A_{anti-sym}$:\n",
    "\n",
    "$$A = A_{sym} + A_{anti-sym} = \\frac{A+A^T}{2} + \\frac{A-A^T}{2}$$\n",
    "\n",
    "where,\n",
    "\n",
    "$$\n",
    "A_{sym}=\\begin{bmatrix}\n",
    "   a_{11} & \\frac{1}{2}(a_{12}+a_{21}) & \\frac{1}{2}(a_{13}+a_{31}) \\\\\n",
    "   \\frac{1}{2}(a_{12}+a_{21}) & a_{22} & \\frac{1}{2}(a_{23}+a_{32}) \\\\\n",
    "   \\frac{1}{2}(a_{13}+a_{31}) & \\frac{1}{2}(a_{23}+a_{32}) & a_{33}\n",
    "   \\end{bmatrix}\n",
    "$$\n",
    "\n",
    "$$\n",
    "A_{anti-sym}=\\begin{bmatrix}\n",
    "   0 & \\frac{1}{2}(a_{12}-a_{21}) & \\frac{1}{2}(a_{13}-_{31}) \\\\\n",
    "   \\frac{1}{2}(a_{21}-a_{12}) & 0 & \\frac{1}{2}(a_{23}-a_{32}) \\\\\n",
    "   \\frac{1}{2}(a_{31}-a_{13}) & \\frac{1}{2}(a_{32}-a_{23}) & 0\n",
    "   \\end{bmatrix}\n",
    "$$\n",
    "\n",
    "and we can further decouple the symmetric part $A_{sym}$ into a identity matrix multiplied by the trace $tr(A)$ and a traceless symmetric matrix $A^\\prime_{sym}$:\n",
    "\n",
    "$$\n",
    "A_{sym}= \\frac{1}{3}tr(A)\\cdot \\textbf{I} + A^\\prime_{sym} = \\frac{a_{11}+a_{22}+a_{33}}{3}\\cdot \\textbf{I} + \\begin{bmatrix}\n",
    "   \\frac{2}{3}a_{11}-\\frac{1}{3}a_{22}-\\frac{1}{3}a_{33} & \\frac{1}{2}(a_{12}+a_{21}) & \\frac{1}{2}(a_{13}+a_{31}) \\\\\n",
    "   \\frac{1}{2}(a_{12}+a_{21}) & \\frac{2}{3}a_{22}-\\frac{1}{3}a_{11}-\\frac{1}{3}a_{33} & \\frac{1}{2}(a_{23}+a_{32}) \\\\\n",
    "   \\frac{1}{2}(a_{13}+a_{31}) & \\frac{1}{2}(a_{23}+a_{32}) & \\frac{2}{3}a_{33}-\\frac{1}{3}a_{11}-\\frac{1}{3}a_{22}\n",
    "   \\end{bmatrix}\n",
    "$$\n",
    "\n",
    "Such that overall, tensor $A$ can be decomposed into the following terms:\n",
    "\n",
    "$$A = tr(A)\\cdot \\textbf{I} + A_{anti-sym} + A^\\prime_{sym} $$\n",
    "\n",
    "and if we write it element-wise:\n",
    "\n",
    "$$A_{ij} = \\frac{1}{3}tr(A)\\delta_{ij} + \\frac{1}{2}(a_{ij}-a_{ji}) + \\frac{1}{2}(a_{ij}+a_{ji}-\\frac{2}{3}\\delta_{ij}tr(A))$$\n",
    "\n",
    "Notice that each of the three parts of the two equations above are preserved by rotations, and thus we have successfully decomposed a rank-2 tensor into irreducible representations of $l=0,1,2$, in the sense that:\n",
    "\n",
    "$$tr(A) = a_{11}+a_{22}+a_{33} \\to irrep^{l=0} \\quad \\text{is a scalar with DOF=1}$$\n",
    "$$A_{anti-sym} = \\begin{bmatrix}\n",
    "   0 & v_1 & v_2 \\\\\n",
    "   -v_1 & 0 & v_3 \\\\\n",
    "   -v_2 & -v_3 & 0\n",
    "   \\end{bmatrix} \\to irrep^{l=1} = \\begin{bmatrix} v_1\\\\ v_2\\\\ v_3\\end{bmatrix} \\quad \\text{is a vector with DOF=3}$$\n",
    "$$A^\\prime_{sym} = \\begin{bmatrix}\n",
    "   l_1 & l_3 & l_4 \\\\\n",
    "   l_3 & l_2 & l_5 \\\\\n",
    "   l_4 & l_5 & 0-l_1-l_2\n",
    "   \\end{bmatrix} \\to irrep^{l=2} = \\begin{bmatrix} l_1\\\\ l_2\\\\ l_3\\\\ l_4\\\\ l_5\\end{bmatrix} \\quad \\text{is a l=2 irreducible representation with DOF=5}$$\n",
    "\n",
    "In e3nn, the irreducible representation of a rank-2 tensor can be written in simplified format as \"1x0e + 1x1o + 1x2o\". Similar to the example of rank-2 tensor shown above, higher-order mathematical objects can also be decomposed into irreducible representations, as shown in the e3nn paper [\\cite].\n",
    "\n",
    "The fact that irreducible representations can be obtained by decomposing arbitrary mathematical objects sets the foundation of E(3)-equivariant neural networks, where all input and output data are used in the form of irreducible representation class called ``Irrep``.\n",
    "\n"
   ]
  },
  {
   "attachments": {},
   "cell_type": "markdown",
   "metadata": {},
   "source": [
    "## References\n",
    "1. https://math.stackexchange.com/questions/1425825/two-notions-of-so3s-irreps-whats-the-connection-between-them\n",
    "2. https://pcgschool2018.files.wordpress.com/2018/06/pcgschool_irrep_analysis_l1_version2.pdf\n",
    "3. http://www.physics.usu.edu/Wheeler/QuantumMechanics/QMWignerEckartTheorem.pdf"
   ]
  },
  {
   "cell_type": "markdown",
   "metadata": {},
   "source": []
  }
 ],
 "metadata": {
  "kernelspec": {
   "display_name": "base",
   "language": "python",
   "name": "python3"
  },
  "language_info": {
   "codemirror_mode": {
    "name": "ipython",
    "version": 3
   },
   "file_extension": ".py",
   "mimetype": "text/x-python",
   "name": "python",
   "nbconvert_exporter": "python",
   "pygments_lexer": "ipython3",
   "version": "3.9.5 (default, May 18 2021, 12:31:01) \n[Clang 10.0.0 ]"
  },
  "orig_nbformat": 4,
  "vscode": {
   "interpreter": {
    "hash": "a429a41e61deb9ee9f43170a4271c5d42eef99359a9088d8c58f4b96e2ffedc5"
   }
  }
 },
 "nbformat": 4,
 "nbformat_minor": 2
}
