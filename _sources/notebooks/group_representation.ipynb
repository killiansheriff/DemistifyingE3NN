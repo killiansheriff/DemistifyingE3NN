{
 "cells": [
  {
   "cell_type": "markdown",
   "metadata": {},
   "source": [
    "# Group representation"
   ]
  },
  {
   "attachments": {},
   "cell_type": "markdown",
   "metadata": {},
   "source": [
    "In this section, we will show how symmetry elements can be represented as matrices, and how we can represent their action as simple matrix multiplication, which in turns allow for symmetry operations to be implemented on a computer.\n",
    "\n",
    "We will use the example of the group of symmetries of a $n$ vertices regular polyhedron $D_n$. We can think of this polygon as having vertices on the unit circle, each labeled from $0$ to $n-1$.\n",
    "\n",
    "An illustration of a square (4 vertices regular polygon) is presented is Fig. 1. Its set of symmetry element constitute the group element of \n",
    "\n",
    "$$D_4 = \\{R_0, R_{90}, R_{180}, R_{270}, H, V , D, D'\\},$$ \n",
    "\n",
    "where the $R_{\\theta}$ are $\\theta$ counter-clockwise degrees rotations with respect to the center of the square, $H$ a flips with respect to the horizontal line going through the middle of the upper and bottom edges, $V$ a flip with respect to the vertical line going through the middle of the left and right edges, $D$ a flip with respect to the diagonal through the upper right corner and the lower left corner, and $D'$ a flip with respect to the other diagonal.\n"
   ]
  },
  {
   "cell_type": "markdown",
   "metadata": {},
   "source": [
    "<!-- ![square](../square.png)\n",
    "<figcaption align = \"center\"><b>Fig.1 - A square and its symmetry elements.</b></figcaption>\n",
    "<!-- <p align=\"center\">\n",
    "  <img src=\"../square.png\"  />\n",
    "</p> --> \n",
    "\n",
    "| ![square](../square.png) |\n",
    "|:--:|\n",
    "| <b>Fig.1 - A square and its symmetry elements.</b>|\n"
   ]
  },
  {
   "cell_type": "markdown",
   "metadata": {},
   "source": [
    "Representing each vertex by its 2D vector coordinates $\\vec{x}$, the action of a symmetry element $s \\in D_4$ displacement the vertex to its new set of coordinates $\\vec{\\hat{x}}$ is defined by the matrix multiplication: \n",
    "\n",
    "$$\\vec{\\hat{x}}=\\hat{s}\\vec{x},$$ \n",
    "\n",
    "where $\\hat{s}$ is the matrix representation of the symmetry element $s \\in D_4$."
   ]
  },
  {
   "cell_type": "markdown",
   "metadata": {},
   "source": [
    "More generally, each rotation can have the following matrix representation:\n",
    "\n",
    "$$\n",
    "R_{\\theta} =\n",
    "\\begin{pmatrix} \n",
    "cos(\\theta) & -sin(\\theta) \\\\ \n",
    "sin(\\theta) & cos(\\theta)\n",
    "\\end{pmatrix},\n",
    "$$\n",
    "\n",
    "leading to:\n",
    "\n",
    "$$\n",
    "R_{0} = \n",
    "\\begin{pmatrix}\n",
    "1 & 0 \\\\\n",
    "0& 1\n",
    "\\end{pmatrix}\n",
    "\\text{, }\n",
    "R_{90} = \n",
    "\\begin{pmatrix}\n",
    "0 & -1 \\\\\n",
    "1& 0\n",
    "\\end{pmatrix}\n",
    "\\text{, }\n",
    "R_{180} = \n",
    "\\begin{pmatrix}\n",
    "-1 & 0 \\\\\n",
    "0& -1\n",
    "\\end{pmatrix}\n",
    "\\text{ and }\n",
    "R_{270} = \n",
    "\\begin{pmatrix}\n",
    "0 & 1 \\\\\n",
    "-1& 0\n",
    "\\end{pmatrix}.\n",
    "$$"
   ]
  },
  {
   "cell_type": "markdown",
   "metadata": {},
   "source": [
    "On the other hand, $H, V , D, D'$ are special cases of reflections about the line through the\n",
    "origin and making an angle of $\\theta$ with the horizontal axis, such that:\n",
    "\n",
    "$$\n",
    "S_{\\theta} = \\begin{pmatrix}\n",
    " cos(2 \\pi k/n) & sin(2 \\pi k/n) \\\\\n",
    "sin(2 \\pi k/n) & -cos(2 \\pi k/n) \n",
    "\\end{pmatrix},\n",
    "$$\n",
    "\n",
    "and so:\n",
    "\n",
    "$$\n",
    "H = S_{0} = \n",
    "\\begin{pmatrix}\n",
    "1 & 0 \\\\\n",
    "0& -1\n",
    "\\end{pmatrix}\n",
    "\\text{, }\n",
    "D = S_{90} = \n",
    "\\begin{pmatrix}\n",
    "0 & 1 \\\\\n",
    "1& 0\n",
    "\\end{pmatrix}\n",
    "\\text{, }\n",
    "V = S_{180} = \n",
    "\\begin{pmatrix}\n",
    "-1 & 0 \\\\\n",
    "0& 1\n",
    "\\end{pmatrix}\n",
    "\\text{ and }\n",
    "D' = S_{270} = \n",
    "\\begin{pmatrix}\n",
    "0 & -1 \\\\\n",
    "-1& 0\n",
    "\\end{pmatrix}.\n",
    "$$"
   ]
  },
  {
   "attachments": {},
   "cell_type": "markdown",
   "metadata": {},
   "source": [
    "## References\n",
    "1. https://web.northeastern.edu/suciu/MATH3175/DihedralGroups.pdf"
   ]
  },
  {
   "cell_type": "markdown",
   "metadata": {},
   "source": []
  }
 ],
 "metadata": {
  "kernelspec": {
   "display_name": "Python 3.9.5 ('base')",
   "language": "python",
   "name": "python3"
  },
  "language_info": {
   "name": "python",
   "version": "3.9.5 (default, May 18 2021, 12:31:01) \n[Clang 10.0.0 ]"
  },
  "orig_nbformat": 4,
  "vscode": {
   "interpreter": {
    "hash": "a429a41e61deb9ee9f43170a4271c5d42eef99359a9088d8c58f4b96e2ffedc5"
   }
  }
 },
 "nbformat": 4,
 "nbformat_minor": 2
}
